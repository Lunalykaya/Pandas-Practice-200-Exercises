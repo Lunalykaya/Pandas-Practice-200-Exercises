{
  "nbformat": 4,
  "nbformat_minor": 0,
  "metadata": {
    "colab": {
      "provenance": [],
      "authorship_tag": "ABX9TyOSPAP2wRT049EWCGLGJtRV",
      "include_colab_link": true
    },
    "kernelspec": {
      "name": "python3",
      "display_name": "Python 3"
    },
    "language_info": {
      "name": "python"
    }
  },
  "cells": [
    {
      "cell_type": "markdown",
      "metadata": {
        "id": "view-in-github",
        "colab_type": "text"
      },
      "source": [
        "<a href=\"https://colab.research.google.com/github/Lunalykaya/Pandas-Practice-200-Exercises/blob/main/%D0%93%D0%BB%D0%B0%D0%B2%D0%B0_1_%D0%9E%D0%B1%D1%8A%D0%B5%D0%BA%D1%82_Series.ipynb\" target=\"_parent\"><img src=\"https://colab.research.google.com/assets/colab-badge.svg\" alt=\"Open In Colab\"/></a>"
      ]
    },
    {
      "cell_type": "code",
      "execution_count": 2,
      "metadata": {
        "id": "PMKPiEcffVi7"
      },
      "outputs": [],
      "source": [
        "import pandas as pd\n",
        "import numpy as np"
      ]
    },
    {
      "cell_type": "markdown",
      "source": [
        "# УПРАЖНЕНИЕ 1. Оценки за ежемесячные тесты\n",
        "Создайте объект Series, состоящий из десяти случайных целочисленных значений в диапазоне от 70 до 100, которые будут представлять оценки студента за\n",
        "ежемесячные тесты. Задайте в качестве индекса названия месяцев с сентября по\n",
        "июнь. Если эти месяцы не соответствуют началу и окончанию учебного года в вашем регионе, вы можете адаптировать их.\n",
        "Напишите код, который будет отвечать на следующие вопросы:\n",
        "* какова средняя оценка студента за тесты за весь год?\n",
        "* какова средняя оценка студента за тесты за первое полугодие (т. е. за первые пять месяцев учебного года)?\n",
        "* какова средняя оценка студента за тесты за второе полугодие (т. е. за последние пять месяцев учебного года)?\n",
        "* повысилась ли успеваемость студента во втором полугодии в сравнении с\n",
        "первым? Если да, то насколько?"
      ],
      "metadata": {
        "id": "73566yLifnQc"
      }
    },
    {
      "cell_type": "code",
      "source": [
        "s = pd.Series(np.random.randint(70, 101, size=10), index=['Сентябрь', 'Октябрь', 'Ноябрь', 'Декабрь', 'Январь', 'Февраль', 'Март', 'Апрель', 'Май', 'Июнь'])\n",
        "s"
      ],
      "metadata": {
        "colab": {
          "base_uri": "https://localhost:8080/",
          "height": 398
        },
        "id": "lFW-W4kRf7gl",
        "outputId": "f670f2e6-1f66-4946-e808-7b983d33e193"
      },
      "execution_count": 3,
      "outputs": [
        {
          "output_type": "execute_result",
          "data": {
            "text/plain": [
              "Сентябрь    84\n",
              "Октябрь     88\n",
              "Ноябрь      74\n",
              "Декабрь     87\n",
              "Январь      91\n",
              "Февраль     80\n",
              "Март        76\n",
              "Апрель      80\n",
              "Май         75\n",
              "Июнь        77\n",
              "dtype: int64"
            ],
            "text/html": [
              "<div>\n",
              "<style scoped>\n",
              "    .dataframe tbody tr th:only-of-type {\n",
              "        vertical-align: middle;\n",
              "    }\n",
              "\n",
              "    .dataframe tbody tr th {\n",
              "        vertical-align: top;\n",
              "    }\n",
              "\n",
              "    .dataframe thead th {\n",
              "        text-align: right;\n",
              "    }\n",
              "</style>\n",
              "<table border=\"1\" class=\"dataframe\">\n",
              "  <thead>\n",
              "    <tr style=\"text-align: right;\">\n",
              "      <th></th>\n",
              "      <th>0</th>\n",
              "    </tr>\n",
              "  </thead>\n",
              "  <tbody>\n",
              "    <tr>\n",
              "      <th>Сентябрь</th>\n",
              "      <td>84</td>\n",
              "    </tr>\n",
              "    <tr>\n",
              "      <th>Октябрь</th>\n",
              "      <td>88</td>\n",
              "    </tr>\n",
              "    <tr>\n",
              "      <th>Ноябрь</th>\n",
              "      <td>74</td>\n",
              "    </tr>\n",
              "    <tr>\n",
              "      <th>Декабрь</th>\n",
              "      <td>87</td>\n",
              "    </tr>\n",
              "    <tr>\n",
              "      <th>Январь</th>\n",
              "      <td>91</td>\n",
              "    </tr>\n",
              "    <tr>\n",
              "      <th>Февраль</th>\n",
              "      <td>80</td>\n",
              "    </tr>\n",
              "    <tr>\n",
              "      <th>Март</th>\n",
              "      <td>76</td>\n",
              "    </tr>\n",
              "    <tr>\n",
              "      <th>Апрель</th>\n",
              "      <td>80</td>\n",
              "    </tr>\n",
              "    <tr>\n",
              "      <th>Май</th>\n",
              "      <td>75</td>\n",
              "    </tr>\n",
              "    <tr>\n",
              "      <th>Июнь</th>\n",
              "      <td>77</td>\n",
              "    </tr>\n",
              "  </tbody>\n",
              "</table>\n",
              "</div><br><label><b>dtype:</b> int64</label>"
            ]
          },
          "metadata": {},
          "execution_count": 3
        }
      ]
    },
    {
      "cell_type": "code",
      "source": [
        "print('Средняя оценка студента за весь год:', s.mean())\n",
        "print('Средняя оценка студента за первое полугодие:', s[:5].mean())\n",
        "print('Средняя оценка студента за второе полугодие:', s[5:].mean())\n",
        "\n",
        "diff = round(s[5:].mean()-s[:5].mean(), 2)\n",
        "if diff > 0:\n",
        "    print(f'Успеваемость студента во втором полугодии повысилась на {diff} балла.')\n",
        "elif diff < 0:\n",
        "    print(f'Успеваемость студента во втором полугодии упала на {abs(diff)} балла.')\n",
        "else:\n",
        "    print('Успеваемость студента осталась на том же уровне.')"
      ],
      "metadata": {
        "colab": {
          "base_uri": "https://localhost:8080/"
        },
        "id": "GqLZDG-niaUL",
        "outputId": "4c3a8a57-64ce-4f71-b61e-a65e7aa35bca"
      },
      "execution_count": 4,
      "outputs": [
        {
          "output_type": "stream",
          "name": "stdout",
          "text": [
            "Средняя оценка студента за весь год: 81.2\n",
            "Средняя оценка студента за первое полугодие: 84.8\n",
            "Средняя оценка студента за второе полугодие: 77.6\n",
            "Успеваемость студента во втором полугодии упала на 7.2 балла.\n"
          ]
        }
      ]
    },
    {
      "cell_type": "markdown",
      "source": [
        "## Дополнительные упражнения\n",
        "1. В каком месяце наш студент получил наивысший балл за тест?\n",
        "2. Какие были пять его лучших оценок в году?\n",
        "3. Округлите оценки студента до ближайшей десятки (оценка 82 должна быть\n",
        "округлена до 80, а 87 –  до 90)"
      ],
      "metadata": {
        "id": "tlhesCy5lZTY"
      }
    },
    {
      "cell_type": "code",
      "source": [
        "#1\n",
        "print('Месяц, в котором студент получил наивысший балл за тест:', s.idxmax())\n",
        "print('Наивысший балл:', s.max())\n",
        "#2\n",
        "print('Пять лучших оценок студента:', *list(s.sort_values(ascending=False)[:5]))"
      ],
      "metadata": {
        "colab": {
          "base_uri": "https://localhost:8080/"
        },
        "id": "jAp3_bBC9s0a",
        "outputId": "21611f67-aab1-48d3-c2d9-957bedf4742d"
      },
      "execution_count": 5,
      "outputs": [
        {
          "output_type": "stream",
          "name": "stdout",
          "text": [
            "Месяц, в котором студент получил наивысший балл за тест: Январь\n",
            "Наивысший балл: 91\n",
            "Пять лучших оценок студента: 91 88 87 84 80\n"
          ]
        }
      ]
    },
    {
      "cell_type": "code",
      "source": [
        "#3\n",
        "s.round(-1)"
      ],
      "metadata": {
        "colab": {
          "base_uri": "https://localhost:8080/",
          "height": 398
        },
        "id": "KdeFSv4cAUVk",
        "outputId": "e5dd2593-4864-47b9-b736-451296cd1315"
      },
      "execution_count": 6,
      "outputs": [
        {
          "output_type": "execute_result",
          "data": {
            "text/plain": [
              "Сентябрь    80\n",
              "Октябрь     90\n",
              "Ноябрь      70\n",
              "Декабрь     90\n",
              "Январь      90\n",
              "Февраль     80\n",
              "Март        80\n",
              "Апрель      80\n",
              "Май         80\n",
              "Июнь        80\n",
              "dtype: int64"
            ],
            "text/html": [
              "<div>\n",
              "<style scoped>\n",
              "    .dataframe tbody tr th:only-of-type {\n",
              "        vertical-align: middle;\n",
              "    }\n",
              "\n",
              "    .dataframe tbody tr th {\n",
              "        vertical-align: top;\n",
              "    }\n",
              "\n",
              "    .dataframe thead th {\n",
              "        text-align: right;\n",
              "    }\n",
              "</style>\n",
              "<table border=\"1\" class=\"dataframe\">\n",
              "  <thead>\n",
              "    <tr style=\"text-align: right;\">\n",
              "      <th></th>\n",
              "      <th>0</th>\n",
              "    </tr>\n",
              "  </thead>\n",
              "  <tbody>\n",
              "    <tr>\n",
              "      <th>Сентябрь</th>\n",
              "      <td>80</td>\n",
              "    </tr>\n",
              "    <tr>\n",
              "      <th>Октябрь</th>\n",
              "      <td>90</td>\n",
              "    </tr>\n",
              "    <tr>\n",
              "      <th>Ноябрь</th>\n",
              "      <td>70</td>\n",
              "    </tr>\n",
              "    <tr>\n",
              "      <th>Декабрь</th>\n",
              "      <td>90</td>\n",
              "    </tr>\n",
              "    <tr>\n",
              "      <th>Январь</th>\n",
              "      <td>90</td>\n",
              "    </tr>\n",
              "    <tr>\n",
              "      <th>Февраль</th>\n",
              "      <td>80</td>\n",
              "    </tr>\n",
              "    <tr>\n",
              "      <th>Март</th>\n",
              "      <td>80</td>\n",
              "    </tr>\n",
              "    <tr>\n",
              "      <th>Апрель</th>\n",
              "      <td>80</td>\n",
              "    </tr>\n",
              "    <tr>\n",
              "      <th>Май</th>\n",
              "      <td>80</td>\n",
              "    </tr>\n",
              "    <tr>\n",
              "      <th>Июнь</th>\n",
              "      <td>80</td>\n",
              "    </tr>\n",
              "  </tbody>\n",
              "</table>\n",
              "</div><br><label><b>dtype:</b> int64</label>"
            ]
          },
          "metadata": {},
          "execution_count": 6
        }
      ]
    },
    {
      "cell_type": "markdown",
      "source": [
        "# УПРАЖНЕНИЕ 2. Масштабирование оценок\n",
        "В этом упражнении вам необходимо сгенерировать 10 оценок в диапазоне\n",
        "от 40 до 60 с таким же индексом по месяцам, что и в первом упражнении. Найдите среднее значение исходных оценок и добавьте к каждой оценке разницу между\n",
        "этим средним значением и 80."
      ],
      "metadata": {
        "id": "PeGoxIlLgMBj"
      }
    },
    {
      "cell_type": "code",
      "source": [
        "s = pd.Series(np.random.randint(40, 61, size=10), index=['Сентябрь', 'Октябрь', 'Ноябрь', 'Декабрь', 'Январь', 'Февраль', 'Март', 'Апрель', 'Май', 'Июнь'])\n",
        "s"
      ],
      "metadata": {
        "colab": {
          "base_uri": "https://localhost:8080/",
          "height": 398
        },
        "id": "7pDk2Fmaf4HR",
        "outputId": "3ed05b2c-2265-438f-d973-2b7880400b4d"
      },
      "execution_count": 7,
      "outputs": [
        {
          "output_type": "execute_result",
          "data": {
            "text/plain": [
              "Сентябрь    40\n",
              "Октябрь     53\n",
              "Ноябрь      57\n",
              "Декабрь     60\n",
              "Январь      51\n",
              "Февраль     60\n",
              "Март        54\n",
              "Апрель      47\n",
              "Май         50\n",
              "Июнь        47\n",
              "dtype: int64"
            ],
            "text/html": [
              "<div>\n",
              "<style scoped>\n",
              "    .dataframe tbody tr th:only-of-type {\n",
              "        vertical-align: middle;\n",
              "    }\n",
              "\n",
              "    .dataframe tbody tr th {\n",
              "        vertical-align: top;\n",
              "    }\n",
              "\n",
              "    .dataframe thead th {\n",
              "        text-align: right;\n",
              "    }\n",
              "</style>\n",
              "<table border=\"1\" class=\"dataframe\">\n",
              "  <thead>\n",
              "    <tr style=\"text-align: right;\">\n",
              "      <th></th>\n",
              "      <th>0</th>\n",
              "    </tr>\n",
              "  </thead>\n",
              "  <tbody>\n",
              "    <tr>\n",
              "      <th>Сентябрь</th>\n",
              "      <td>40</td>\n",
              "    </tr>\n",
              "    <tr>\n",
              "      <th>Октябрь</th>\n",
              "      <td>53</td>\n",
              "    </tr>\n",
              "    <tr>\n",
              "      <th>Ноябрь</th>\n",
              "      <td>57</td>\n",
              "    </tr>\n",
              "    <tr>\n",
              "      <th>Декабрь</th>\n",
              "      <td>60</td>\n",
              "    </tr>\n",
              "    <tr>\n",
              "      <th>Январь</th>\n",
              "      <td>51</td>\n",
              "    </tr>\n",
              "    <tr>\n",
              "      <th>Февраль</th>\n",
              "      <td>60</td>\n",
              "    </tr>\n",
              "    <tr>\n",
              "      <th>Март</th>\n",
              "      <td>54</td>\n",
              "    </tr>\n",
              "    <tr>\n",
              "      <th>Апрель</th>\n",
              "      <td>47</td>\n",
              "    </tr>\n",
              "    <tr>\n",
              "      <th>Май</th>\n",
              "      <td>50</td>\n",
              "    </tr>\n",
              "    <tr>\n",
              "      <th>Июнь</th>\n",
              "      <td>47</td>\n",
              "    </tr>\n",
              "  </tbody>\n",
              "</table>\n",
              "</div><br><label><b>dtype:</b> int64</label>"
            ]
          },
          "metadata": {},
          "execution_count": 7
        }
      ]
    },
    {
      "cell_type": "code",
      "source": [
        "print('Средняя оценка:', s.mean())"
      ],
      "metadata": {
        "colab": {
          "base_uri": "https://localhost:8080/"
        },
        "id": "kUmi2R7XhA0P",
        "outputId": "59b21e79-a5d8-44c0-d4e1-5aa791f75122"
      },
      "execution_count": 8,
      "outputs": [
        {
          "output_type": "stream",
          "name": "stdout",
          "text": [
            "Средняя оценка: 51.9\n"
          ]
        }
      ]
    },
    {
      "cell_type": "code",
      "source": [
        "dif = 80 - s.mean()\n",
        "dif"
      ],
      "metadata": {
        "colab": {
          "base_uri": "https://localhost:8080/"
        },
        "id": "olOfci7rhdO1",
        "outputId": "f4c3df7c-653f-4b85-d445-ff501ceefa14"
      },
      "execution_count": 9,
      "outputs": [
        {
          "output_type": "execute_result",
          "data": {
            "text/plain": [
              "np.float64(28.1)"
            ]
          },
          "metadata": {},
          "execution_count": 9
        }
      ]
    },
    {
      "cell_type": "code",
      "source": [
        "s_dif = s + dif"
      ],
      "metadata": {
        "id": "Z1AyyJ2VhinM"
      },
      "execution_count": 10,
      "outputs": []
    },
    {
      "cell_type": "code",
      "source": [
        "s_dif"
      ],
      "metadata": {
        "colab": {
          "base_uri": "https://localhost:8080/",
          "height": 398
        },
        "id": "YznwuIxrhwMv",
        "outputId": "5b289f01-7fcf-4251-dafd-4b57f8789111"
      },
      "execution_count": 11,
      "outputs": [
        {
          "output_type": "execute_result",
          "data": {
            "text/plain": [
              "Сентябрь    68.1\n",
              "Октябрь     81.1\n",
              "Ноябрь      85.1\n",
              "Декабрь     88.1\n",
              "Январь      79.1\n",
              "Февраль     88.1\n",
              "Март        82.1\n",
              "Апрель      75.1\n",
              "Май         78.1\n",
              "Июнь        75.1\n",
              "dtype: float64"
            ],
            "text/html": [
              "<div>\n",
              "<style scoped>\n",
              "    .dataframe tbody tr th:only-of-type {\n",
              "        vertical-align: middle;\n",
              "    }\n",
              "\n",
              "    .dataframe tbody tr th {\n",
              "        vertical-align: top;\n",
              "    }\n",
              "\n",
              "    .dataframe thead th {\n",
              "        text-align: right;\n",
              "    }\n",
              "</style>\n",
              "<table border=\"1\" class=\"dataframe\">\n",
              "  <thead>\n",
              "    <tr style=\"text-align: right;\">\n",
              "      <th></th>\n",
              "      <th>0</th>\n",
              "    </tr>\n",
              "  </thead>\n",
              "  <tbody>\n",
              "    <tr>\n",
              "      <th>Сентябрь</th>\n",
              "      <td>68.1</td>\n",
              "    </tr>\n",
              "    <tr>\n",
              "      <th>Октябрь</th>\n",
              "      <td>81.1</td>\n",
              "    </tr>\n",
              "    <tr>\n",
              "      <th>Ноябрь</th>\n",
              "      <td>85.1</td>\n",
              "    </tr>\n",
              "    <tr>\n",
              "      <th>Декабрь</th>\n",
              "      <td>88.1</td>\n",
              "    </tr>\n",
              "    <tr>\n",
              "      <th>Январь</th>\n",
              "      <td>79.1</td>\n",
              "    </tr>\n",
              "    <tr>\n",
              "      <th>Февраль</th>\n",
              "      <td>88.1</td>\n",
              "    </tr>\n",
              "    <tr>\n",
              "      <th>Март</th>\n",
              "      <td>82.1</td>\n",
              "    </tr>\n",
              "    <tr>\n",
              "      <th>Апрель</th>\n",
              "      <td>75.1</td>\n",
              "    </tr>\n",
              "    <tr>\n",
              "      <th>Май</th>\n",
              "      <td>78.1</td>\n",
              "    </tr>\n",
              "    <tr>\n",
              "      <th>Июнь</th>\n",
              "      <td>75.1</td>\n",
              "    </tr>\n",
              "  </tbody>\n",
              "</table>\n",
              "</div><br><label><b>dtype:</b> float64</label>"
            ]
          },
          "metadata": {},
          "execution_count": 11
        }
      ]
    },
    {
      "cell_type": "markdown",
      "source": [
        "## Дополнительные упражнения\n",
        "1. Существует еще как минимум один способ выполнить масштабирование\n",
        "оценок за тесты – путем анализа их средних значений и стандартных отклонений. К примеру, если студент уложился в одно стандартное отклонение\n",
        "от среднего значения, он получает оценку C (если она ниже среднего) или B\n",
        "(если выше среднего). Те из студентов, кто преодолел границу одного стандартного отклонения в сторону повышения, получают высший балл  –  A,\n",
        "а те, кто опустился больше чем на одно стандартное отклонение ниже средней оценки, получают худшую оценку D. С учетом этого правила определите суммарные баллы нашего студента по всем месяцам.\n",
        "2. Встретились ли вам оценки выше или ниже двух стандартных отклонений\n",
        "от среднего балла? Если да, то в какие месяцы?\n",
        "3. Насколько близки друг к другу оказались средняя арифметическая оценка\n",
        "и медиана? Что означает близость этих двух статистик? И что бы означала\n",
        "большая разница между ними?"
      ],
      "metadata": {
        "id": "ifOoffC5iEQi"
      }
    },
    {
      "cell_type": "code",
      "source": [
        "s.mean()"
      ],
      "metadata": {
        "colab": {
          "base_uri": "https://localhost:8080/"
        },
        "id": "NRQipkJWiNqj",
        "outputId": "5a4e0005-2bd0-4451-bd54-0dcbf5fd3375"
      },
      "execution_count": 12,
      "outputs": [
        {
          "output_type": "execute_result",
          "data": {
            "text/plain": [
              "np.float64(51.9)"
            ]
          },
          "metadata": {},
          "execution_count": 12
        }
      ]
    },
    {
      "cell_type": "code",
      "source": [
        "s.std()"
      ],
      "metadata": {
        "colab": {
          "base_uri": "https://localhost:8080/"
        },
        "id": "PE2E_Teym0RY",
        "outputId": "89877bb2-fded-4bb1-9a4a-fd93e8f1158a"
      },
      "execution_count": 13,
      "outputs": [
        {
          "output_type": "execute_result",
          "data": {
            "text/plain": [
              "6.297265720577111"
            ]
          },
          "metadata": {},
          "execution_count": 13
        }
      ]
    },
    {
      "cell_type": "code",
      "source": [
        "s.median()"
      ],
      "metadata": {
        "colab": {
          "base_uri": "https://localhost:8080/"
        },
        "id": "NkSjY9q-nI7s",
        "outputId": "bc8c8d34-8a26-4a4e-9bd0-5e79cd2b6adc"
      },
      "execution_count": 14,
      "outputs": [
        {
          "output_type": "execute_result",
          "data": {
            "text/plain": [
              "52.0"
            ]
          },
          "metadata": {},
          "execution_count": 14
        }
      ]
    },
    {
      "cell_type": "markdown",
      "source": [
        "# УПРАЖНЕНИЕ 5. Температура по понедельникам\n",
        "В этом упражнении мы создадим объект Series с 28 измерениями температуры воздуха в градусах Цельсия за четыре недели, выбрав значения из нормального\n",
        "распределения со средним значением 20 и стандартным отклонением 5 с округлением до ближайшего целого. Индекс у нас будет состоять из повторяющихся названий дней недели с Sun (воскресенье) по Sat (суббота). А вопрос будет такой: какова\n",
        "была средняя температура по понедельникам за исследованный период времени?"
      ],
      "metadata": {
        "id": "GHCosCfazECd"
      }
    },
    {
      "cell_type": "code",
      "source": [
        "g = np.random.default_rng(0)\n",
        "g.normal(20, 5, 28)"
      ],
      "metadata": {
        "colab": {
          "base_uri": "https://localhost:8080/"
        },
        "id": "55-DQo0czOI6",
        "outputId": "6065676c-ade6-4440-8ad5-f7524fca24f5"
      },
      "execution_count": 15,
      "outputs": [
        {
          "output_type": "execute_result",
          "data": {
            "text/plain": [
              "array([20.62865111, 19.33947568, 23.20211325, 20.52450059, 17.32165313,\n",
              "       21.80797527, 26.52000023, 24.73540482, 16.48132382, 13.67289264,\n",
              "       16.88362769, 20.2066299 ,  8.37484613, 18.90604168, 13.77044526,\n",
              "       16.33866323, 17.27870509, 18.41849922, 22.05815268, 25.21256685,\n",
              "       19.35732669, 26.83231735, 16.67402663, 21.75755035, 24.51735091,\n",
              "       20.47006149, 16.28250375, 15.39137312])"
            ]
          },
          "metadata": {},
          "execution_count": 15
        }
      ]
    },
    {
      "cell_type": "code",
      "source": [
        "days = \"Sun Mon Tues Wed Thu Fri Sat\".split()"
      ],
      "metadata": {
        "id": "GHenfqvn0mMw"
      },
      "execution_count": 18,
      "outputs": []
    },
    {
      "cell_type": "code",
      "source": [
        "s = pd.Series(g.normal(20, 5, 28), index=days*4).round().astype(np.int8)"
      ],
      "metadata": {
        "id": "uezzCxwQ0xTb"
      },
      "execution_count": 23,
      "outputs": []
    },
    {
      "cell_type": "markdown",
      "source": [
        "Какова\n",
        "была средняя температура по понедельникам за исследованный период времени?"
      ],
      "metadata": {
        "id": "iR-i7uJTJm_H"
      }
    },
    {
      "cell_type": "code",
      "source": [
        "s.mean()"
      ],
      "metadata": {
        "colab": {
          "base_uri": "https://localhost:8080/"
        },
        "id": "9ZpmuoJnJmwL",
        "outputId": "064f9821-1e67-4e59-9197-6e3fa9b823a7"
      },
      "execution_count": 25,
      "outputs": [
        {
          "output_type": "execute_result",
          "data": {
            "text/plain": [
              "np.float64(20.464285714285715)"
            ]
          },
          "metadata": {},
          "execution_count": 25
        }
      ]
    },
    {
      "cell_type": "code",
      "source": [
        "s.Mon.mean()"
      ],
      "metadata": {
        "colab": {
          "base_uri": "https://localhost:8080/"
        },
        "id": "kQxmJtsQJwpC",
        "outputId": "e0427d84-5f39-461b-da8a-c7ff267eb97f"
      },
      "execution_count": 29,
      "outputs": [
        {
          "output_type": "execute_result",
          "data": {
            "text/plain": [
              "np.float64(22.0)"
            ]
          },
          "metadata": {},
          "execution_count": 29
        }
      ]
    },
    {
      "cell_type": "code",
      "source": [
        "s.loc['Mon'].mean()"
      ],
      "metadata": {
        "colab": {
          "base_uri": "https://localhost:8080/"
        },
        "id": "QCT5wGNzKH0M",
        "outputId": "ef2e9766-4370-4930-f1fc-ced52d973d69"
      },
      "execution_count": 30,
      "outputs": [
        {
          "output_type": "execute_result",
          "data": {
            "text/plain": [
              "np.float64(22.0)"
            ]
          },
          "metadata": {},
          "execution_count": 30
        }
      ]
    }
  ]
}