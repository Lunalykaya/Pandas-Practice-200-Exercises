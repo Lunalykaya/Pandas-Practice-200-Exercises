{
  "nbformat": 4,
  "nbformat_minor": 0,
  "metadata": {
    "colab": {
      "provenance": [],
      "authorship_tag": "ABX9TyOrG5dIO9qrUPCEtd+XusqA"
    },
    "kernelspec": {
      "name": "python3",
      "display_name": "Python 3"
    },
    "language_info": {
      "name": "python"
    }
  },
  "cells": [
    {
      "cell_type": "code",
      "execution_count": 2,
      "metadata": {
        "id": "PMKPiEcffVi7"
      },
      "outputs": [],
      "source": [
        "import pandas as pd\n",
        "import numpy as np"
      ]
    },
    {
      "cell_type": "markdown",
      "source": [
        "# УПРАЖНЕНИЕ 1. Оценки за ежемесячные тесты\n",
        "Создайте объект Series, состоящий из десяти случайных целочисленных значений в диапазоне от 70 до 100, которые будут представлять оценки студента за\n",
        "ежемесячные тесты. Задайте в качестве индекса названия месяцев с сентября по\n",
        "июнь. Если эти месяцы не соответствуют началу и окончанию учебного года в вашем регионе, вы можете адаптировать их.\n",
        "Напишите код, который будет отвечать на следующие вопросы:\n",
        "* какова средняя оценка студента за тесты за весь год?\n",
        "* какова средняя оценка студента за тесты за первое полугодие (т. е. за первые пять месяцев учебного года)?\n",
        "* какова средняя оценка студента за тесты за второе полугодие (т. е. за последние пять месяцев учебного года)?\n",
        "* повысилась ли успеваемость студента во втором полугодии в сравнении с\n",
        "первым? Если да, то насколько?"
      ],
      "metadata": {
        "id": "73566yLifnQc"
      }
    },
    {
      "cell_type": "code",
      "source": [
        "s = pd.Series(np.random.randint(70, 101, size=10), index=['Сентябрь', 'Октябрь', 'Ноябрь', 'Декабрь', 'Январь', 'Февраль', 'Март', 'Апрель', 'Май', 'Июнь'])\n",
        "s"
      ],
      "metadata": {
        "colab": {
          "base_uri": "https://localhost:8080/",
          "height": 398
        },
        "id": "lFW-W4kRf7gl",
        "outputId": "c532c4ce-4923-4a70-c88e-071854c4d307"
      },
      "execution_count": 7,
      "outputs": [
        {
          "output_type": "execute_result",
          "data": {
            "text/plain": [
              "Сентябрь    70\n",
              "Октябрь     97\n",
              "Ноябрь      94\n",
              "Декабрь     98\n",
              "Январь      96\n",
              "Фнвраль     99\n",
              "Март        74\n",
              "Апрель      76\n",
              "Май         98\n",
              "Июнь        72\n",
              "dtype: int64"
            ],
            "text/html": [
              "<div>\n",
              "<style scoped>\n",
              "    .dataframe tbody tr th:only-of-type {\n",
              "        vertical-align: middle;\n",
              "    }\n",
              "\n",
              "    .dataframe tbody tr th {\n",
              "        vertical-align: top;\n",
              "    }\n",
              "\n",
              "    .dataframe thead th {\n",
              "        text-align: right;\n",
              "    }\n",
              "</style>\n",
              "<table border=\"1\" class=\"dataframe\">\n",
              "  <thead>\n",
              "    <tr style=\"text-align: right;\">\n",
              "      <th></th>\n",
              "      <th>0</th>\n",
              "    </tr>\n",
              "  </thead>\n",
              "  <tbody>\n",
              "    <tr>\n",
              "      <th>Сентябрь</th>\n",
              "      <td>70</td>\n",
              "    </tr>\n",
              "    <tr>\n",
              "      <th>Октябрь</th>\n",
              "      <td>97</td>\n",
              "    </tr>\n",
              "    <tr>\n",
              "      <th>Ноябрь</th>\n",
              "      <td>94</td>\n",
              "    </tr>\n",
              "    <tr>\n",
              "      <th>Декабрь</th>\n",
              "      <td>98</td>\n",
              "    </tr>\n",
              "    <tr>\n",
              "      <th>Январь</th>\n",
              "      <td>96</td>\n",
              "    </tr>\n",
              "    <tr>\n",
              "      <th>Фнвраль</th>\n",
              "      <td>99</td>\n",
              "    </tr>\n",
              "    <tr>\n",
              "      <th>Март</th>\n",
              "      <td>74</td>\n",
              "    </tr>\n",
              "    <tr>\n",
              "      <th>Апрель</th>\n",
              "      <td>76</td>\n",
              "    </tr>\n",
              "    <tr>\n",
              "      <th>Май</th>\n",
              "      <td>98</td>\n",
              "    </tr>\n",
              "    <tr>\n",
              "      <th>Июнь</th>\n",
              "      <td>72</td>\n",
              "    </tr>\n",
              "  </tbody>\n",
              "</table>\n",
              "</div><br><label><b>dtype:</b> int64</label>"
            ]
          },
          "metadata": {},
          "execution_count": 7
        }
      ]
    },
    {
      "cell_type": "code",
      "source": [
        "print('Средняя оценка студента за весь год:', s.mean())\n",
        "print('Средняя оценка студента за первое полугодие:', s[:5].mean())\n",
        "print('Средняя оценка студента за второе полугодие:', s[5:].mean())\n",
        "\n",
        "diff = round(s[5:].mean()-s[:5].mean(), 2)\n",
        "if diff > 0:\n",
        "    print(f'Успеваемость студента во втором полугодии повысилась на {diff} балла.')\n",
        "elif diff < 0:\n",
        "    print(f'Успеваемость студента во втором полугодии упала на {abs(diff)} балла.')\n",
        "else:\n",
        "    print('Успеваемость студента осталась на том же уровне.')"
      ],
      "metadata": {
        "colab": {
          "base_uri": "https://localhost:8080/"
        },
        "id": "GqLZDG-niaUL",
        "outputId": "ff320b13-2a66-46ac-bc86-22822755dcf4"
      },
      "execution_count": 17,
      "outputs": [
        {
          "output_type": "stream",
          "name": "stdout",
          "text": [
            "Средняя оценка студента за весь год: 87.4\n",
            "Средняя оценка студента за первое полугодие: 91.0\n",
            "Средняя оценка студента за второе полугодие: 83.8\n",
            "Успеваемость студента во втором полугодии упала на 7.2 балла.\n"
          ]
        }
      ]
    },
    {
      "cell_type": "markdown",
      "source": [],
      "metadata": {
        "id": "tlhesCy5lZTY"
      }
    }
  ]
}