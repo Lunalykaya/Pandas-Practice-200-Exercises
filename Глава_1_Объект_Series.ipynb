{
  "nbformat": 4,
  "nbformat_minor": 0,
  "metadata": {
    "colab": {
      "provenance": [],
      "authorship_tag": "ABX9TyOH1AGDxgoqFTTFgBpf/D7r",
      "include_colab_link": true
    },
    "kernelspec": {
      "name": "python3",
      "display_name": "Python 3"
    },
    "language_info": {
      "name": "python"
    }
  },
  "cells": [
    {
      "cell_type": "markdown",
      "metadata": {
        "id": "view-in-github",
        "colab_type": "text"
      },
      "source": [
        "<a href=\"https://colab.research.google.com/github/Lunalykaya/Pandas-Practice-200-Exercises/blob/main/%D0%93%D0%BB%D0%B0%D0%B2%D0%B0_1_%D0%9E%D0%B1%D1%8A%D0%B5%D0%BA%D1%82_Series.ipynb\" target=\"_parent\"><img src=\"https://colab.research.google.com/assets/colab-badge.svg\" alt=\"Open In Colab\"/></a>"
      ]
    },
    {
      "cell_type": "code",
      "execution_count": 2,
      "metadata": {
        "id": "PMKPiEcffVi7"
      },
      "outputs": [],
      "source": [
        "import pandas as pd\n",
        "import numpy as np"
      ]
    },
    {
      "cell_type": "markdown",
      "source": [
        "# УПРАЖНЕНИЕ 1. Оценки за ежемесячные тесты\n",
        "Создайте объект Series, состоящий из десяти случайных целочисленных значений в диапазоне от 70 до 100, которые будут представлять оценки студента за\n",
        "ежемесячные тесты. Задайте в качестве индекса названия месяцев с сентября по\n",
        "июнь. Если эти месяцы не соответствуют началу и окончанию учебного года в вашем регионе, вы можете адаптировать их.\n",
        "Напишите код, который будет отвечать на следующие вопросы:\n",
        "* какова средняя оценка студента за тесты за весь год?\n",
        "* какова средняя оценка студента за тесты за первое полугодие (т. е. за первые пять месяцев учебного года)?\n",
        "* какова средняя оценка студента за тесты за второе полугодие (т. е. за последние пять месяцев учебного года)?\n",
        "* повысилась ли успеваемость студента во втором полугодии в сравнении с\n",
        "первым? Если да, то насколько?"
      ],
      "metadata": {
        "id": "73566yLifnQc"
      }
    },
    {
      "cell_type": "code",
      "source": [
        "s = pd.Series(np.random.randint(70, 101, size=10), index=['Сентябрь', 'Октябрь', 'Ноябрь', 'Декабрь', 'Январь', 'Февраль', 'Март', 'Апрель', 'Май', 'Июнь'])\n",
        "s"
      ],
      "metadata": {
        "colab": {
          "base_uri": "https://localhost:8080/",
          "height": 398
        },
        "id": "lFW-W4kRf7gl",
        "outputId": "83cdc046-be69-4de4-fec2-c185c6d20d32"
      },
      "execution_count": 23,
      "outputs": [
        {
          "output_type": "execute_result",
          "data": {
            "text/plain": [
              "Сентябрь    100\n",
              "Октябрь      72\n",
              "Ноябрь       95\n",
              "Декабрь      97\n",
              "Январь       94\n",
              "Февраль      71\n",
              "Март         77\n",
              "Апрель       70\n",
              "Май          76\n",
              "Июнь         93\n",
              "dtype: int64"
            ],
            "text/html": [
              "<div>\n",
              "<style scoped>\n",
              "    .dataframe tbody tr th:only-of-type {\n",
              "        vertical-align: middle;\n",
              "    }\n",
              "\n",
              "    .dataframe tbody tr th {\n",
              "        vertical-align: top;\n",
              "    }\n",
              "\n",
              "    .dataframe thead th {\n",
              "        text-align: right;\n",
              "    }\n",
              "</style>\n",
              "<table border=\"1\" class=\"dataframe\">\n",
              "  <thead>\n",
              "    <tr style=\"text-align: right;\">\n",
              "      <th></th>\n",
              "      <th>0</th>\n",
              "    </tr>\n",
              "  </thead>\n",
              "  <tbody>\n",
              "    <tr>\n",
              "      <th>Сентябрь</th>\n",
              "      <td>100</td>\n",
              "    </tr>\n",
              "    <tr>\n",
              "      <th>Октябрь</th>\n",
              "      <td>72</td>\n",
              "    </tr>\n",
              "    <tr>\n",
              "      <th>Ноябрь</th>\n",
              "      <td>95</td>\n",
              "    </tr>\n",
              "    <tr>\n",
              "      <th>Декабрь</th>\n",
              "      <td>97</td>\n",
              "    </tr>\n",
              "    <tr>\n",
              "      <th>Январь</th>\n",
              "      <td>94</td>\n",
              "    </tr>\n",
              "    <tr>\n",
              "      <th>Февраль</th>\n",
              "      <td>71</td>\n",
              "    </tr>\n",
              "    <tr>\n",
              "      <th>Март</th>\n",
              "      <td>77</td>\n",
              "    </tr>\n",
              "    <tr>\n",
              "      <th>Апрель</th>\n",
              "      <td>70</td>\n",
              "    </tr>\n",
              "    <tr>\n",
              "      <th>Май</th>\n",
              "      <td>76</td>\n",
              "    </tr>\n",
              "    <tr>\n",
              "      <th>Июнь</th>\n",
              "      <td>93</td>\n",
              "    </tr>\n",
              "  </tbody>\n",
              "</table>\n",
              "</div><br><label><b>dtype:</b> int64</label>"
            ]
          },
          "metadata": {},
          "execution_count": 23
        }
      ]
    },
    {
      "cell_type": "code",
      "source": [
        "print('Средняя оценка студента за весь год:', s.mean())\n",
        "print('Средняя оценка студента за первое полугодие:', s[:5].mean())\n",
        "print('Средняя оценка студента за второе полугодие:', s[5:].mean())\n",
        "\n",
        "diff = round(s[5:].mean()-s[:5].mean(), 2)\n",
        "if diff > 0:\n",
        "    print(f'Успеваемость студента во втором полугодии повысилась на {diff} балла.')\n",
        "elif diff < 0:\n",
        "    print(f'Успеваемость студента во втором полугодии упала на {abs(diff)} балла.')\n",
        "else:\n",
        "    print('Успеваемость студента осталась на том же уровне.')"
      ],
      "metadata": {
        "colab": {
          "base_uri": "https://localhost:8080/"
        },
        "id": "GqLZDG-niaUL",
        "outputId": "a99d20d0-2e1d-4781-d207-9cc34c809532"
      },
      "execution_count": 24,
      "outputs": [
        {
          "output_type": "stream",
          "name": "stdout",
          "text": [
            "Средняя оценка студента за весь год: 84.5\n",
            "Средняя оценка студента за первое полугодие: 91.6\n",
            "Средняя оценка студента за второе полугодие: 77.4\n",
            "Успеваемость студента во втором полугодии упала на 14.2 балла.\n"
          ]
        }
      ]
    },
    {
      "cell_type": "markdown",
      "source": [
        "# Дополнительные упражнения\n",
        "1. В каком месяце наш студент получил наивысший балл за тест?\n",
        "2. Какие были пять его лучших оценок в году?\n",
        "3. Округлите оценки студента до ближайшей десятки (оценка 82 должна быть\n",
        "округлена до 80, а 87 –  до 90)"
      ],
      "metadata": {
        "id": "tlhesCy5lZTY"
      }
    },
    {
      "cell_type": "code",
      "source": [
        "#1\n",
        "print('Месяц, в котором студент получил наивысший балл за тест:', s.idxmax())\n",
        "print('Наивысший балл:', s.max())\n",
        "#2\n",
        "print('Пять лучших оценок студента:', *list(s.sort_values(ascending=False)[:5]))"
      ],
      "metadata": {
        "colab": {
          "base_uri": "https://localhost:8080/"
        },
        "id": "jAp3_bBC9s0a",
        "outputId": "fd27981a-c486-44ee-e380-37920d2cfcde"
      },
      "execution_count": 49,
      "outputs": [
        {
          "output_type": "stream",
          "name": "stdout",
          "text": [
            "Месяц, в котором студент получил наивысший балл за тест: Сентябрь\n",
            "Наивысший балл: 100\n",
            "Пять лучших оценок студента: 100 97 95 94 93\n"
          ]
        }
      ]
    },
    {
      "cell_type": "code",
      "source": [
        "#3\n",
        "s.round(-1)"
      ],
      "metadata": {
        "colab": {
          "base_uri": "https://localhost:8080/",
          "height": 398
        },
        "id": "KdeFSv4cAUVk",
        "outputId": "a378c096-e462-4b6f-c87c-53467b0a0f7d"
      },
      "execution_count": 52,
      "outputs": [
        {
          "output_type": "execute_result",
          "data": {
            "text/plain": [
              "Сентябрь    100\n",
              "Октябрь      70\n",
              "Ноябрь      100\n",
              "Декабрь     100\n",
              "Январь       90\n",
              "Февраль      70\n",
              "Март         80\n",
              "Апрель       70\n",
              "Май          80\n",
              "Июнь         90\n",
              "dtype: int64"
            ],
            "text/html": [
              "<div>\n",
              "<style scoped>\n",
              "    .dataframe tbody tr th:only-of-type {\n",
              "        vertical-align: middle;\n",
              "    }\n",
              "\n",
              "    .dataframe tbody tr th {\n",
              "        vertical-align: top;\n",
              "    }\n",
              "\n",
              "    .dataframe thead th {\n",
              "        text-align: right;\n",
              "    }\n",
              "</style>\n",
              "<table border=\"1\" class=\"dataframe\">\n",
              "  <thead>\n",
              "    <tr style=\"text-align: right;\">\n",
              "      <th></th>\n",
              "      <th>0</th>\n",
              "    </tr>\n",
              "  </thead>\n",
              "  <tbody>\n",
              "    <tr>\n",
              "      <th>Сентябрь</th>\n",
              "      <td>100</td>\n",
              "    </tr>\n",
              "    <tr>\n",
              "      <th>Октябрь</th>\n",
              "      <td>70</td>\n",
              "    </tr>\n",
              "    <tr>\n",
              "      <th>Ноябрь</th>\n",
              "      <td>100</td>\n",
              "    </tr>\n",
              "    <tr>\n",
              "      <th>Декабрь</th>\n",
              "      <td>100</td>\n",
              "    </tr>\n",
              "    <tr>\n",
              "      <th>Январь</th>\n",
              "      <td>90</td>\n",
              "    </tr>\n",
              "    <tr>\n",
              "      <th>Февраль</th>\n",
              "      <td>70</td>\n",
              "    </tr>\n",
              "    <tr>\n",
              "      <th>Март</th>\n",
              "      <td>80</td>\n",
              "    </tr>\n",
              "    <tr>\n",
              "      <th>Апрель</th>\n",
              "      <td>70</td>\n",
              "    </tr>\n",
              "    <tr>\n",
              "      <th>Май</th>\n",
              "      <td>80</td>\n",
              "    </tr>\n",
              "    <tr>\n",
              "      <th>Июнь</th>\n",
              "      <td>90</td>\n",
              "    </tr>\n",
              "  </tbody>\n",
              "</table>\n",
              "</div><br><label><b>dtype:</b> int64</label>"
            ]
          },
          "metadata": {},
          "execution_count": 52
        }
      ]
    }
  ]
}