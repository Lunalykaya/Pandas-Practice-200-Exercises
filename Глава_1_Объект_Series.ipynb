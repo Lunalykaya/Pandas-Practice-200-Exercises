{
  "nbformat": 4,
  "nbformat_minor": 0,
  "metadata": {
    "colab": {
      "provenance": [],
      "authorship_tag": "ABX9TyOleQ0yisZ0DTVyJrhCgzwJ",
      "include_colab_link": true
    },
    "kernelspec": {
      "name": "python3",
      "display_name": "Python 3"
    },
    "language_info": {
      "name": "python"
    }
  },
  "cells": [
    {
      "cell_type": "markdown",
      "metadata": {
        "id": "view-in-github",
        "colab_type": "text"
      },
      "source": [
        "<a href=\"https://colab.research.google.com/github/Lunalykaya/Pandas-Practice-200-Exercises/blob/main/%D0%93%D0%BB%D0%B0%D0%B2%D0%B0_1_%D0%9E%D0%B1%D1%8A%D0%B5%D0%BA%D1%82_Series.ipynb\" target=\"_parent\"><img src=\"https://colab.research.google.com/assets/colab-badge.svg\" alt=\"Open In Colab\"/></a>"
      ]
    },
    {
      "cell_type": "code",
      "execution_count": 1,
      "metadata": {
        "id": "PMKPiEcffVi7"
      },
      "outputs": [],
      "source": [
        "import pandas as pd\n",
        "import numpy as np"
      ]
    },
    {
      "cell_type": "markdown",
      "source": [
        "# УПРАЖНЕНИЕ 1. Оценки за ежемесячные тесты\n",
        "Создайте объект Series, состоящий из десяти случайных целочисленных значений в диапазоне от 70 до 100, которые будут представлять оценки студента за\n",
        "ежемесячные тесты. Задайте в качестве индекса названия месяцев с сентября по\n",
        "июнь. Если эти месяцы не соответствуют началу и окончанию учебного года в вашем регионе, вы можете адаптировать их.\n",
        "Напишите код, который будет отвечать на следующие вопросы:\n",
        "* какова средняя оценка студента за тесты за весь год?\n",
        "* какова средняя оценка студента за тесты за первое полугодие (т. е. за первые пять месяцев учебного года)?\n",
        "* какова средняя оценка студента за тесты за второе полугодие (т. е. за последние пять месяцев учебного года)?\n",
        "* повысилась ли успеваемость студента во втором полугодии в сравнении с\n",
        "первым? Если да, то насколько?"
      ],
      "metadata": {
        "id": "73566yLifnQc"
      }
    },
    {
      "cell_type": "code",
      "source": [
        "s = pd.Series(np.random.randint(70, 101, size=10), index=['Сентябрь', 'Октябрь', 'Ноябрь', 'Декабрь', 'Январь', 'Февраль', 'Март', 'Апрель', 'Май', 'Июнь'])\n",
        "s"
      ],
      "metadata": {
        "colab": {
          "base_uri": "https://localhost:8080/",
          "height": 398
        },
        "id": "lFW-W4kRf7gl",
        "outputId": "eec91812-cae5-4b12-f0da-295792e6be90"
      },
      "execution_count": 2,
      "outputs": [
        {
          "output_type": "execute_result",
          "data": {
            "text/plain": [
              "Сентябрь     84\n",
              "Октябрь      77\n",
              "Ноябрь       72\n",
              "Декабрь      93\n",
              "Январь       91\n",
              "Февраль      78\n",
              "Март         80\n",
              "Апрель       71\n",
              "Май         100\n",
              "Июнь         71\n",
              "dtype: int64"
            ],
            "text/html": [
              "<div>\n",
              "<style scoped>\n",
              "    .dataframe tbody tr th:only-of-type {\n",
              "        vertical-align: middle;\n",
              "    }\n",
              "\n",
              "    .dataframe tbody tr th {\n",
              "        vertical-align: top;\n",
              "    }\n",
              "\n",
              "    .dataframe thead th {\n",
              "        text-align: right;\n",
              "    }\n",
              "</style>\n",
              "<table border=\"1\" class=\"dataframe\">\n",
              "  <thead>\n",
              "    <tr style=\"text-align: right;\">\n",
              "      <th></th>\n",
              "      <th>0</th>\n",
              "    </tr>\n",
              "  </thead>\n",
              "  <tbody>\n",
              "    <tr>\n",
              "      <th>Сентябрь</th>\n",
              "      <td>84</td>\n",
              "    </tr>\n",
              "    <tr>\n",
              "      <th>Октябрь</th>\n",
              "      <td>77</td>\n",
              "    </tr>\n",
              "    <tr>\n",
              "      <th>Ноябрь</th>\n",
              "      <td>72</td>\n",
              "    </tr>\n",
              "    <tr>\n",
              "      <th>Декабрь</th>\n",
              "      <td>93</td>\n",
              "    </tr>\n",
              "    <tr>\n",
              "      <th>Январь</th>\n",
              "      <td>91</td>\n",
              "    </tr>\n",
              "    <tr>\n",
              "      <th>Февраль</th>\n",
              "      <td>78</td>\n",
              "    </tr>\n",
              "    <tr>\n",
              "      <th>Март</th>\n",
              "      <td>80</td>\n",
              "    </tr>\n",
              "    <tr>\n",
              "      <th>Апрель</th>\n",
              "      <td>71</td>\n",
              "    </tr>\n",
              "    <tr>\n",
              "      <th>Май</th>\n",
              "      <td>100</td>\n",
              "    </tr>\n",
              "    <tr>\n",
              "      <th>Июнь</th>\n",
              "      <td>71</td>\n",
              "    </tr>\n",
              "  </tbody>\n",
              "</table>\n",
              "</div><br><label><b>dtype:</b> int64</label>"
            ]
          },
          "metadata": {},
          "execution_count": 2
        }
      ]
    },
    {
      "cell_type": "code",
      "source": [
        "print('Средняя оценка студента за весь год:', s.mean())\n",
        "print('Средняя оценка студента за первое полугодие:', s[:5].mean())\n",
        "print('Средняя оценка студента за второе полугодие:', s[5:].mean())\n",
        "\n",
        "diff = round(s[5:].mean()-s[:5].mean(), 2)\n",
        "if diff > 0:\n",
        "    print(f'Успеваемость студента во втором полугодии повысилась на {diff} балла.')\n",
        "elif diff < 0:\n",
        "    print(f'Успеваемость студента во втором полугодии упала на {abs(diff)} балла.')\n",
        "else:\n",
        "    print('Успеваемость студента осталась на том же уровне.')"
      ],
      "metadata": {
        "colab": {
          "base_uri": "https://localhost:8080/"
        },
        "id": "GqLZDG-niaUL",
        "outputId": "db5fdfa2-a796-4a44-c5d8-3de4b4b95887"
      },
      "execution_count": 3,
      "outputs": [
        {
          "output_type": "stream",
          "name": "stdout",
          "text": [
            "Средняя оценка студента за весь год: 81.7\n",
            "Средняя оценка студента за первое полугодие: 83.4\n",
            "Средняя оценка студента за второе полугодие: 80.0\n",
            "Успеваемость студента во втором полугодии упала на 3.4 балла.\n"
          ]
        }
      ]
    },
    {
      "cell_type": "markdown",
      "source": [
        "## Дополнительные упражнения\n",
        "1. В каком месяце наш студент получил наивысший балл за тест?\n",
        "2. Какие были пять его лучших оценок в году?\n",
        "3. Округлите оценки студента до ближайшей десятки (оценка 82 должна быть\n",
        "округлена до 80, а 87 –  до 90)"
      ],
      "metadata": {
        "id": "tlhesCy5lZTY"
      }
    },
    {
      "cell_type": "code",
      "source": [
        "#1\n",
        "print('Месяц, в котором студент получил наивысший балл за тест:', s.idxmax())\n",
        "print('Наивысший балл:', s.max())\n",
        "#2\n",
        "print('Пять лучших оценок студента:', *list(s.sort_values(ascending=False)[:5]))"
      ],
      "metadata": {
        "colab": {
          "base_uri": "https://localhost:8080/"
        },
        "id": "jAp3_bBC9s0a",
        "outputId": "0ad72105-cc81-4ee7-feb5-ed55b7ddd9ab"
      },
      "execution_count": 4,
      "outputs": [
        {
          "output_type": "stream",
          "name": "stdout",
          "text": [
            "Месяц, в котором студент получил наивысший балл за тест: Май\n",
            "Наивысший балл: 100\n",
            "Пять лучших оценок студента: 100 93 91 84 80\n"
          ]
        }
      ]
    },
    {
      "cell_type": "code",
      "source": [
        "#3\n",
        "s.round(-1)"
      ],
      "metadata": {
        "colab": {
          "base_uri": "https://localhost:8080/",
          "height": 398
        },
        "id": "KdeFSv4cAUVk",
        "outputId": "3c98e74a-9ffe-4b51-cc16-0f47d12a2425"
      },
      "execution_count": 5,
      "outputs": [
        {
          "output_type": "execute_result",
          "data": {
            "text/plain": [
              "Сентябрь     80\n",
              "Октябрь      80\n",
              "Ноябрь       70\n",
              "Декабрь      90\n",
              "Январь       90\n",
              "Февраль      80\n",
              "Март         80\n",
              "Апрель       70\n",
              "Май         100\n",
              "Июнь         70\n",
              "dtype: int64"
            ],
            "text/html": [
              "<div>\n",
              "<style scoped>\n",
              "    .dataframe tbody tr th:only-of-type {\n",
              "        vertical-align: middle;\n",
              "    }\n",
              "\n",
              "    .dataframe tbody tr th {\n",
              "        vertical-align: top;\n",
              "    }\n",
              "\n",
              "    .dataframe thead th {\n",
              "        text-align: right;\n",
              "    }\n",
              "</style>\n",
              "<table border=\"1\" class=\"dataframe\">\n",
              "  <thead>\n",
              "    <tr style=\"text-align: right;\">\n",
              "      <th></th>\n",
              "      <th>0</th>\n",
              "    </tr>\n",
              "  </thead>\n",
              "  <tbody>\n",
              "    <tr>\n",
              "      <th>Сентябрь</th>\n",
              "      <td>80</td>\n",
              "    </tr>\n",
              "    <tr>\n",
              "      <th>Октябрь</th>\n",
              "      <td>80</td>\n",
              "    </tr>\n",
              "    <tr>\n",
              "      <th>Ноябрь</th>\n",
              "      <td>70</td>\n",
              "    </tr>\n",
              "    <tr>\n",
              "      <th>Декабрь</th>\n",
              "      <td>90</td>\n",
              "    </tr>\n",
              "    <tr>\n",
              "      <th>Январь</th>\n",
              "      <td>90</td>\n",
              "    </tr>\n",
              "    <tr>\n",
              "      <th>Февраль</th>\n",
              "      <td>80</td>\n",
              "    </tr>\n",
              "    <tr>\n",
              "      <th>Март</th>\n",
              "      <td>80</td>\n",
              "    </tr>\n",
              "    <tr>\n",
              "      <th>Апрель</th>\n",
              "      <td>70</td>\n",
              "    </tr>\n",
              "    <tr>\n",
              "      <th>Май</th>\n",
              "      <td>100</td>\n",
              "    </tr>\n",
              "    <tr>\n",
              "      <th>Июнь</th>\n",
              "      <td>70</td>\n",
              "    </tr>\n",
              "  </tbody>\n",
              "</table>\n",
              "</div><br><label><b>dtype:</b> int64</label>"
            ]
          },
          "metadata": {},
          "execution_count": 5
        }
      ]
    },
    {
      "cell_type": "markdown",
      "source": [
        "# УПРАЖНЕНИЕ 2. Масштабирование оценок\n",
        "В этом упражнении вам необходимо сгенерировать 10 оценок в диапазоне\n",
        "от 40 до 60 с таким же индексом по месяцам, что и в первом упражнении. Найдите среднее значение исходных оценок и добавьте к каждой оценке разницу между\n",
        "этим средним значением и 80."
      ],
      "metadata": {
        "id": "PeGoxIlLgMBj"
      }
    },
    {
      "cell_type": "code",
      "source": [
        "s = pd.Series(np.random.randint(40, 61, size=10), index=['Сентябрь', 'Октябрь', 'Ноябрь', 'Декабрь', 'Январь', 'Февраль', 'Март', 'Апрель', 'Май', 'Июнь'])\n",
        "s"
      ],
      "metadata": {
        "colab": {
          "base_uri": "https://localhost:8080/",
          "height": 398
        },
        "id": "7pDk2Fmaf4HR",
        "outputId": "2735455e-6513-45e8-ee33-a5c89173e2fc"
      },
      "execution_count": 7,
      "outputs": [
        {
          "output_type": "execute_result",
          "data": {
            "text/plain": [
              "Сентябрь    42\n",
              "Октябрь     56\n",
              "Ноябрь      41\n",
              "Декабрь     58\n",
              "Январь      53\n",
              "Февраль     57\n",
              "Март        45\n",
              "Апрель      56\n",
              "Май         54\n",
              "Июнь        42\n",
              "dtype: int64"
            ],
            "text/html": [
              "<div>\n",
              "<style scoped>\n",
              "    .dataframe tbody tr th:only-of-type {\n",
              "        vertical-align: middle;\n",
              "    }\n",
              "\n",
              "    .dataframe tbody tr th {\n",
              "        vertical-align: top;\n",
              "    }\n",
              "\n",
              "    .dataframe thead th {\n",
              "        text-align: right;\n",
              "    }\n",
              "</style>\n",
              "<table border=\"1\" class=\"dataframe\">\n",
              "  <thead>\n",
              "    <tr style=\"text-align: right;\">\n",
              "      <th></th>\n",
              "      <th>0</th>\n",
              "    </tr>\n",
              "  </thead>\n",
              "  <tbody>\n",
              "    <tr>\n",
              "      <th>Сентябрь</th>\n",
              "      <td>42</td>\n",
              "    </tr>\n",
              "    <tr>\n",
              "      <th>Октябрь</th>\n",
              "      <td>56</td>\n",
              "    </tr>\n",
              "    <tr>\n",
              "      <th>Ноябрь</th>\n",
              "      <td>41</td>\n",
              "    </tr>\n",
              "    <tr>\n",
              "      <th>Декабрь</th>\n",
              "      <td>58</td>\n",
              "    </tr>\n",
              "    <tr>\n",
              "      <th>Январь</th>\n",
              "      <td>53</td>\n",
              "    </tr>\n",
              "    <tr>\n",
              "      <th>Февраль</th>\n",
              "      <td>57</td>\n",
              "    </tr>\n",
              "    <tr>\n",
              "      <th>Март</th>\n",
              "      <td>45</td>\n",
              "    </tr>\n",
              "    <tr>\n",
              "      <th>Апрель</th>\n",
              "      <td>56</td>\n",
              "    </tr>\n",
              "    <tr>\n",
              "      <th>Май</th>\n",
              "      <td>54</td>\n",
              "    </tr>\n",
              "    <tr>\n",
              "      <th>Июнь</th>\n",
              "      <td>42</td>\n",
              "    </tr>\n",
              "  </tbody>\n",
              "</table>\n",
              "</div><br><label><b>dtype:</b> int64</label>"
            ]
          },
          "metadata": {},
          "execution_count": 7
        }
      ]
    },
    {
      "cell_type": "code",
      "source": [
        "print('Средняя оценка:', s.mean())"
      ],
      "metadata": {
        "colab": {
          "base_uri": "https://localhost:8080/"
        },
        "id": "kUmi2R7XhA0P",
        "outputId": "4faf7b0c-5519-447a-c8ef-55ff60215d56"
      },
      "execution_count": 12,
      "outputs": [
        {
          "output_type": "stream",
          "name": "stdout",
          "text": [
            "Средняя оценка: 50.4\n"
          ]
        }
      ]
    },
    {
      "cell_type": "code",
      "source": [
        "dif = 80 - s.mean()\n",
        "dif"
      ],
      "metadata": {
        "colab": {
          "base_uri": "https://localhost:8080/"
        },
        "id": "olOfci7rhdO1",
        "outputId": "29a725d0-3e67-43df-9db5-5548e9047d00"
      },
      "execution_count": 14,
      "outputs": [
        {
          "output_type": "execute_result",
          "data": {
            "text/plain": [
              "np.float64(29.6)"
            ]
          },
          "metadata": {},
          "execution_count": 14
        }
      ]
    },
    {
      "cell_type": "code",
      "source": [
        "s_dif = s + dif"
      ],
      "metadata": {
        "id": "Z1AyyJ2VhinM"
      },
      "execution_count": 15,
      "outputs": []
    },
    {
      "cell_type": "code",
      "source": [
        "s_dif"
      ],
      "metadata": {
        "colab": {
          "base_uri": "https://localhost:8080/",
          "height": 398
        },
        "id": "YznwuIxrhwMv",
        "outputId": "bac223ce-e3e9-4c3d-bc2b-678c2872117a"
      },
      "execution_count": 16,
      "outputs": [
        {
          "output_type": "execute_result",
          "data": {
            "text/plain": [
              "Сентябрь    71.6\n",
              "Октябрь     85.6\n",
              "Ноябрь      70.6\n",
              "Декабрь     87.6\n",
              "Январь      82.6\n",
              "Февраль     86.6\n",
              "Март        74.6\n",
              "Апрель      85.6\n",
              "Май         83.6\n",
              "Июнь        71.6\n",
              "dtype: float64"
            ],
            "text/html": [
              "<div>\n",
              "<style scoped>\n",
              "    .dataframe tbody tr th:only-of-type {\n",
              "        vertical-align: middle;\n",
              "    }\n",
              "\n",
              "    .dataframe tbody tr th {\n",
              "        vertical-align: top;\n",
              "    }\n",
              "\n",
              "    .dataframe thead th {\n",
              "        text-align: right;\n",
              "    }\n",
              "</style>\n",
              "<table border=\"1\" class=\"dataframe\">\n",
              "  <thead>\n",
              "    <tr style=\"text-align: right;\">\n",
              "      <th></th>\n",
              "      <th>0</th>\n",
              "    </tr>\n",
              "  </thead>\n",
              "  <tbody>\n",
              "    <tr>\n",
              "      <th>Сентябрь</th>\n",
              "      <td>71.6</td>\n",
              "    </tr>\n",
              "    <tr>\n",
              "      <th>Октябрь</th>\n",
              "      <td>85.6</td>\n",
              "    </tr>\n",
              "    <tr>\n",
              "      <th>Ноябрь</th>\n",
              "      <td>70.6</td>\n",
              "    </tr>\n",
              "    <tr>\n",
              "      <th>Декабрь</th>\n",
              "      <td>87.6</td>\n",
              "    </tr>\n",
              "    <tr>\n",
              "      <th>Январь</th>\n",
              "      <td>82.6</td>\n",
              "    </tr>\n",
              "    <tr>\n",
              "      <th>Февраль</th>\n",
              "      <td>86.6</td>\n",
              "    </tr>\n",
              "    <tr>\n",
              "      <th>Март</th>\n",
              "      <td>74.6</td>\n",
              "    </tr>\n",
              "    <tr>\n",
              "      <th>Апрель</th>\n",
              "      <td>85.6</td>\n",
              "    </tr>\n",
              "    <tr>\n",
              "      <th>Май</th>\n",
              "      <td>83.6</td>\n",
              "    </tr>\n",
              "    <tr>\n",
              "      <th>Июнь</th>\n",
              "      <td>71.6</td>\n",
              "    </tr>\n",
              "  </tbody>\n",
              "</table>\n",
              "</div><br><label><b>dtype:</b> float64</label>"
            ]
          },
          "metadata": {},
          "execution_count": 16
        }
      ]
    },
    {
      "cell_type": "markdown",
      "source": [
        "## Дополнительные упражнения\n",
        "1. Существует еще как минимум один способ выполнить масштабирование\n",
        "оценок за тесты – путем анализа их средних значений и стандартных отклонений. К примеру, если студент уложился в одно стандартное отклонение\n",
        "от среднего значения, он получает оценку C (если она ниже среднего) или B\n",
        "(если выше среднего). Те из студентов, кто преодолел границу одного стандартного отклонения в сторону повышения, получают высший балл  –  A,\n",
        "а те, кто опустился больше чем на одно стандартное отклонение ниже средней оценки, получают худшую оценку D. С учетом этого правила определите суммарные баллы нашего студента по всем месяцам.\n",
        "2. Встретились ли вам оценки выше или ниже двух стандартных отклонений\n",
        "от среднего балла? Если да, то в какие месяцы?\n",
        "3. Насколько близки друг к другу оказались средняя арифметическая оценка\n",
        "и медиана? Что означает близость этих двух статистик? И что бы означала\n",
        "большая разница между ними?"
      ],
      "metadata": {
        "id": "ifOoffC5iEQi"
      }
    },
    {
      "cell_type": "code",
      "source": [
        "s.mean()"
      ],
      "metadata": {
        "colab": {
          "base_uri": "https://localhost:8080/"
        },
        "id": "NRQipkJWiNqj",
        "outputId": "70878b1d-99ba-46fb-a46b-420463eb7f22"
      },
      "execution_count": 18,
      "outputs": [
        {
          "output_type": "execute_result",
          "data": {
            "text/plain": [
              "np.float64(50.4)"
            ]
          },
          "metadata": {},
          "execution_count": 18
        }
      ]
    },
    {
      "cell_type": "code",
      "source": [
        "s.std()"
      ],
      "metadata": {
        "colab": {
          "base_uri": "https://localhost:8080/"
        },
        "id": "PE2E_Teym0RY",
        "outputId": "e9d8d549-515f-403b-b58f-7df0508ba186"
      },
      "execution_count": 19,
      "outputs": [
        {
          "output_type": "execute_result",
          "data": {
            "text/plain": [
              "7.011102306738617"
            ]
          },
          "metadata": {},
          "execution_count": 19
        }
      ]
    },
    {
      "cell_type": "code",
      "source": [
        "s.median()"
      ],
      "metadata": {
        "colab": {
          "base_uri": "https://localhost:8080/"
        },
        "id": "NkSjY9q-nI7s",
        "outputId": "f1ef76a7-57b9-4977-c174-5a5aa145b15a"
      },
      "execution_count": 20,
      "outputs": [
        {
          "output_type": "execute_result",
          "data": {
            "text/plain": [
              "53.5"
            ]
          },
          "metadata": {},
          "execution_count": 20
        }
      ]
    }
  ]
}